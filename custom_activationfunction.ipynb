{
 "cells": [
  {
   "cell_type": "code",
   "execution_count": 50,
   "id": "226c3b13",
   "metadata": {},
   "outputs": [
    {
     "name": "stdout",
     "output_type": "stream",
     "text": [
      "/home/sai\r\n"
     ]
    }
   ],
   "source": [
    "!pwd"
   ]
  },
  {
   "cell_type": "code",
   "execution_count": 1,
   "id": "0a8e365a",
   "metadata": {
    "scrolled": true
   },
   "outputs": [
    {
     "name": "stdout",
     "output_type": "stream",
     "text": [
      "0.3 0.07\n"
     ]
    }
   ],
   "source": [
    "from tensorflow.keras.models import Sequential\n",
    "from tensorflow.keras.layers import Dense\n",
    "import random\n",
    "import tensorflow\n",
    "\n",
    "# Custom activation function\n",
    "from tensorflow.keras.layers import Activation\n",
    "from tensorflow.keras import backend as K\n",
    "from tensorflow.python.keras.utils.generic_utils import get_custom_objects\n",
    "from tensorflow.python.keras.utils import generic_utils\n",
    "\n",
    "\n",
    "def act():\n",
    "    for i in range(0,3):\n",
    "        k=random.random()\n",
    "        if k>=0.3:\n",
    "            k=0.3\n",
    "        else:\n",
    "            k\n",
    "\n",
    "\n",
    "    k1 = random.randrange(1,9)/100\n",
    "    \n",
    "    return k,k1\n",
    "k,k1=act()\n",
    "print(k,k1)\n",
    "\n",
    "\n",
    "# @tensorflow.function\n",
    "# def custom_activation(x):\n",
    "#     if x>0:\n",
    "#         return k+(k1*x)\n",
    "#     else:\n",
    "#         k\n",
    "\n",
    "# @tensorflow.function\n",
    "# def custom_activation(x):\n",
    "#     return K.relu(x) if x>0 else k+k1*(K.relu(x))\n",
    "\n",
    "@tensorflow.function\n",
    "def custom_activation(x):\n",
    "    return tensorflow.maximum(x,k+(k1*x))   \n",
    "\n",
    "get_custom_objects().update({'custom_activation': Activation(custom_activation)})\n"
   ]
  },
  {
   "cell_type": "code",
   "execution_count": 2,
   "id": "6badcc56",
   "metadata": {},
   "outputs": [],
   "source": [
    "from sklearn.datasets import load_iris"
   ]
  },
  {
   "cell_type": "code",
   "execution_count": 3,
   "id": "6403d732",
   "metadata": {},
   "outputs": [],
   "source": [
    "import pandas as pd\n",
    "from sklearn.model_selection import train_test_split\n",
    " "
   ]
  },
  {
   "cell_type": "code",
   "execution_count": 4,
   "id": "a756c5c7",
   "metadata": {},
   "outputs": [],
   "source": [
    "data=load_iris()"
   ]
  },
  {
   "cell_type": "code",
   "execution_count": 5,
   "id": "acf6aa83",
   "metadata": {},
   "outputs": [],
   "source": [
    "df=pd.DataFrame(data.data,columns=data.feature_names)\n",
    "df['target'] = data['target']"
   ]
  },
  {
   "cell_type": "code",
   "execution_count": 6,
   "id": "aa4c5819",
   "metadata": {},
   "outputs": [
    {
     "data": {
      "text/html": [
       "<div>\n",
       "<style scoped>\n",
       "    .dataframe tbody tr th:only-of-type {\n",
       "        vertical-align: middle;\n",
       "    }\n",
       "\n",
       "    .dataframe tbody tr th {\n",
       "        vertical-align: top;\n",
       "    }\n",
       "\n",
       "    .dataframe thead th {\n",
       "        text-align: right;\n",
       "    }\n",
       "</style>\n",
       "<table border=\"1\" class=\"dataframe\">\n",
       "  <thead>\n",
       "    <tr style=\"text-align: right;\">\n",
       "      <th></th>\n",
       "      <th>sepal length (cm)</th>\n",
       "      <th>sepal width (cm)</th>\n",
       "      <th>petal length (cm)</th>\n",
       "      <th>petal width (cm)</th>\n",
       "      <th>target</th>\n",
       "    </tr>\n",
       "  </thead>\n",
       "  <tbody>\n",
       "    <tr>\n",
       "      <th>0</th>\n",
       "      <td>5.1</td>\n",
       "      <td>3.5</td>\n",
       "      <td>1.4</td>\n",
       "      <td>0.2</td>\n",
       "      <td>0</td>\n",
       "    </tr>\n",
       "    <tr>\n",
       "      <th>1</th>\n",
       "      <td>4.9</td>\n",
       "      <td>3.0</td>\n",
       "      <td>1.4</td>\n",
       "      <td>0.2</td>\n",
       "      <td>0</td>\n",
       "    </tr>\n",
       "    <tr>\n",
       "      <th>2</th>\n",
       "      <td>4.7</td>\n",
       "      <td>3.2</td>\n",
       "      <td>1.3</td>\n",
       "      <td>0.2</td>\n",
       "      <td>0</td>\n",
       "    </tr>\n",
       "    <tr>\n",
       "      <th>3</th>\n",
       "      <td>4.6</td>\n",
       "      <td>3.1</td>\n",
       "      <td>1.5</td>\n",
       "      <td>0.2</td>\n",
       "      <td>0</td>\n",
       "    </tr>\n",
       "    <tr>\n",
       "      <th>4</th>\n",
       "      <td>5.0</td>\n",
       "      <td>3.6</td>\n",
       "      <td>1.4</td>\n",
       "      <td>0.2</td>\n",
       "      <td>0</td>\n",
       "    </tr>\n",
       "  </tbody>\n",
       "</table>\n",
       "</div>"
      ],
      "text/plain": [
       "   sepal length (cm)  sepal width (cm)  petal length (cm)  petal width (cm)  \\\n",
       "0                5.1               3.5                1.4               0.2   \n",
       "1                4.9               3.0                1.4               0.2   \n",
       "2                4.7               3.2                1.3               0.2   \n",
       "3                4.6               3.1                1.5               0.2   \n",
       "4                5.0               3.6                1.4               0.2   \n",
       "\n",
       "   target  \n",
       "0       0  \n",
       "1       0  \n",
       "2       0  \n",
       "3       0  \n",
       "4       0  "
      ]
     },
     "execution_count": 6,
     "metadata": {},
     "output_type": "execute_result"
    }
   ],
   "source": [
    "df.head()"
   ]
  },
  {
   "cell_type": "code",
   "execution_count": 7,
   "id": "fc9d04b0",
   "metadata": {},
   "outputs": [],
   "source": [
    "X=df.drop('target',axis=1)\n",
    "y=df['target']"
   ]
  },
  {
   "cell_type": "code",
   "execution_count": 8,
   "id": "c32113f8",
   "metadata": {
    "scrolled": false
   },
   "outputs": [
    {
     "data": {
      "text/plain": [
       "(4, (150,))"
      ]
     },
     "execution_count": 8,
     "metadata": {},
     "output_type": "execute_result"
    }
   ],
   "source": [
    "X.shape[1],y.shape"
   ]
  },
  {
   "cell_type": "code",
   "execution_count": 36,
   "id": "e99432ab",
   "metadata": {},
   "outputs": [],
   "source": [
    "y"
   ]
  },
  {
   "cell_type": "code",
   "execution_count": 10,
   "id": "72a677b0",
   "metadata": {},
   "outputs": [],
   "source": [
    "x_train,x_test,y_train,y_test=train_test_split(X,y,test_size=0.2)"
   ]
  },
  {
   "cell_type": "code",
   "execution_count": 11,
   "id": "890e6647",
   "metadata": {},
   "outputs": [],
   "source": [
    "Y_train=pd.get_dummies(y_train)"
   ]
  },
  {
   "cell_type": "code",
   "execution_count": 37,
   "id": "e4454911",
   "metadata": {},
   "outputs": [],
   "source": [
    "Y_train"
   ]
  },
  {
   "cell_type": "code",
   "execution_count": 12,
   "id": "304f7e5d",
   "metadata": {},
   "outputs": [],
   "source": [
    "Y_test=pd.get_dummies(y_test)"
   ]
  },
  {
   "cell_type": "code",
   "execution_count": 35,
   "id": "cc689d0e",
   "metadata": {
    "scrolled": true
   },
   "outputs": [],
   "source": [
    "Y_test"
   ]
  },
  {
   "cell_type": "code",
   "execution_count": 15,
   "id": "12704de3",
   "metadata": {},
   "outputs": [],
   "source": [
    "model=Sequential()\n",
    "model.add(Dense(8,activation=custom_activation,input_shape=(4,)))\n",
    "model.add(Dense(10,activation=custom_activation))\n",
    "model.add(Dense(10,activation=custom_activation))\n",
    "model.add(Dense(10,activation=custom_activation))\n",
    "model.add(Dense(3,activation='softmax'))"
   ]
  },
  {
   "cell_type": "code",
   "execution_count": 16,
   "id": "6fa4a125",
   "metadata": {},
   "outputs": [
    {
     "name": "stdout",
     "output_type": "stream",
     "text": [
      "Model: \"sequential\"\n",
      "_________________________________________________________________\n",
      "Layer (type)                 Output Shape              Param #   \n",
      "=================================================================\n",
      "dense (Dense)                (None, 8)                 40        \n",
      "_________________________________________________________________\n",
      "dense_1 (Dense)              (None, 10)                90        \n",
      "_________________________________________________________________\n",
      "dense_2 (Dense)              (None, 10)                110       \n",
      "_________________________________________________________________\n",
      "dense_3 (Dense)              (None, 10)                110       \n",
      "_________________________________________________________________\n",
      "dense_4 (Dense)              (None, 3)                 33        \n",
      "=================================================================\n",
      "Total params: 383\n",
      "Trainable params: 383\n",
      "Non-trainable params: 0\n",
      "_________________________________________________________________\n"
     ]
    }
   ],
   "source": [
    "model.summary()"
   ]
  },
  {
   "cell_type": "code",
   "execution_count": 17,
   "id": "7256b1df",
   "metadata": {},
   "outputs": [],
   "source": [
    "model.compile(optimizer='adam',loss='categorical_crossentropy',metrics=['accuracy'])"
   ]
  },
  {
   "cell_type": "code",
   "execution_count": 18,
   "id": "a03f6dea",
   "metadata": {
    "scrolled": true
   },
   "outputs": [
    {
     "name": "stdout",
     "output_type": "stream",
     "text": [
      "Epoch 1/100\n",
      "4/4 [==============================] - 1s 118ms/step - loss: 1.3972 - accuracy: 0.3333 - val_loss: 1.3074 - val_accuracy: 0.3333\n",
      "Epoch 2/100\n",
      "4/4 [==============================] - 0s 17ms/step - loss: 1.3298 - accuracy: 0.3333 - val_loss: 1.2559 - val_accuracy: 0.3333\n",
      "Epoch 3/100\n",
      "4/4 [==============================] - 0s 15ms/step - loss: 1.2794 - accuracy: 0.3333 - val_loss: 1.2145 - val_accuracy: 0.3333\n",
      "Epoch 4/100\n",
      "4/4 [==============================] - 0s 15ms/step - loss: 1.2363 - accuracy: 0.3333 - val_loss: 1.1807 - val_accuracy: 0.3333\n",
      "Epoch 5/100\n",
      "4/4 [==============================] - 0s 15ms/step - loss: 1.2041 - accuracy: 0.3333 - val_loss: 1.1533 - val_accuracy: 0.3333\n",
      "Epoch 6/100\n",
      "4/4 [==============================] - 0s 14ms/step - loss: 1.1723 - accuracy: 0.3333 - val_loss: 1.1319 - val_accuracy: 0.3333\n",
      "Epoch 7/100\n",
      "4/4 [==============================] - 0s 16ms/step - loss: 1.1492 - accuracy: 0.3333 - val_loss: 1.1159 - val_accuracy: 0.3333\n",
      "Epoch 8/100\n",
      "4/4 [==============================] - 0s 14ms/step - loss: 1.1331 - accuracy: 0.3333 - val_loss: 1.1067 - val_accuracy: 0.3333\n",
      "Epoch 9/100\n",
      "4/4 [==============================] - 0s 15ms/step - loss: 1.1225 - accuracy: 0.3333 - val_loss: 1.0974 - val_accuracy: 0.3333\n",
      "Epoch 10/100\n",
      "4/4 [==============================] - 0s 14ms/step - loss: 1.1126 - accuracy: 0.3333 - val_loss: 1.0885 - val_accuracy: 0.3333\n",
      "Epoch 11/100\n",
      "4/4 [==============================] - 0s 14ms/step - loss: 1.1034 - accuracy: 0.3333 - val_loss: 1.0799 - val_accuracy: 0.3333\n",
      "Epoch 12/100\n",
      "4/4 [==============================] - 0s 15ms/step - loss: 1.0928 - accuracy: 0.3333 - val_loss: 1.0715 - val_accuracy: 0.3333\n",
      "Epoch 13/100\n",
      "4/4 [==============================] - 0s 15ms/step - loss: 1.0823 - accuracy: 0.3333 - val_loss: 1.0629 - val_accuracy: 0.3333\n",
      "Epoch 14/100\n",
      "4/4 [==============================] - 0s 15ms/step - loss: 1.0736 - accuracy: 0.3333 - val_loss: 1.0552 - val_accuracy: 0.3333\n",
      "Epoch 15/100\n",
      "4/4 [==============================] - 0s 13ms/step - loss: 1.0652 - accuracy: 0.3333 - val_loss: 1.0478 - val_accuracy: 0.3333\n",
      "Epoch 16/100\n",
      "4/4 [==============================] - 0s 15ms/step - loss: 1.0567 - accuracy: 0.3333 - val_loss: 1.0402 - val_accuracy: 0.3333\n",
      "Epoch 17/100\n",
      "4/4 [==============================] - 0s 19ms/step - loss: 1.0475 - accuracy: 0.3333 - val_loss: 1.0326 - val_accuracy: 0.3333\n",
      "Epoch 18/100\n",
      "4/4 [==============================] - 0s 17ms/step - loss: 1.0393 - accuracy: 0.3333 - val_loss: 1.0250 - val_accuracy: 0.3333\n",
      "Epoch 19/100\n",
      "4/4 [==============================] - 0s 16ms/step - loss: 1.0307 - accuracy: 0.3333 - val_loss: 1.0171 - val_accuracy: 0.3333\n",
      "Epoch 20/100\n",
      "4/4 [==============================] - 0s 17ms/step - loss: 1.0226 - accuracy: 0.3333 - val_loss: 1.0096 - val_accuracy: 0.3333\n",
      "Epoch 21/100\n",
      "4/4 [==============================] - 0s 18ms/step - loss: 1.0143 - accuracy: 0.3333 - val_loss: 1.0020 - val_accuracy: 0.3333\n",
      "Epoch 22/100\n",
      "4/4 [==============================] - 0s 13ms/step - loss: 1.0062 - accuracy: 0.3333 - val_loss: 0.9934 - val_accuracy: 0.3333\n",
      "Epoch 23/100\n",
      "4/4 [==============================] - 0s 15ms/step - loss: 0.9947 - accuracy: 0.3333 - val_loss: 0.9836 - val_accuracy: 0.3333\n",
      "Epoch 24/100\n",
      "4/4 [==============================] - 0s 14ms/step - loss: 0.9823 - accuracy: 0.3333 - val_loss: 0.9734 - val_accuracy: 0.3333\n",
      "Epoch 25/100\n",
      "4/4 [==============================] - 0s 15ms/step - loss: 0.9694 - accuracy: 0.3333 - val_loss: 0.9629 - val_accuracy: 0.3333\n",
      "Epoch 26/100\n",
      "4/4 [==============================] - 0s 17ms/step - loss: 0.9545 - accuracy: 0.3333 - val_loss: 0.9507 - val_accuracy: 0.4667\n",
      "Epoch 27/100\n",
      "4/4 [==============================] - 0s 20ms/step - loss: 0.9386 - accuracy: 0.5583 - val_loss: 0.9369 - val_accuracy: 0.6000\n",
      "Epoch 28/100\n",
      "4/4 [==============================] - 0s 16ms/step - loss: 0.9203 - accuracy: 0.6750 - val_loss: 0.9202 - val_accuracy: 0.6000\n",
      "Epoch 29/100\n",
      "4/4 [==============================] - 0s 12ms/step - loss: 0.9017 - accuracy: 0.6833 - val_loss: 0.8969 - val_accuracy: 0.6000\n",
      "Epoch 30/100\n",
      "4/4 [==============================] - 0s 14ms/step - loss: 0.8678 - accuracy: 0.6833 - val_loss: 0.8566 - val_accuracy: 0.6000\n",
      "Epoch 31/100\n",
      "4/4 [==============================] - 0s 20ms/step - loss: 0.8045 - accuracy: 0.6833 - val_loss: 0.8022 - val_accuracy: 0.6000\n",
      "Epoch 32/100\n",
      "4/4 [==============================] - 0s 18ms/step - loss: 0.7383 - accuracy: 0.6833 - val_loss: 0.7909 - val_accuracy: 0.6000\n",
      "Epoch 33/100\n",
      "4/4 [==============================] - 0s 14ms/step - loss: 0.7093 - accuracy: 0.6833 - val_loss: 0.7632 - val_accuracy: 0.6000\n",
      "Epoch 34/100\n",
      "4/4 [==============================] - 0s 15ms/step - loss: 0.6693 - accuracy: 0.6833 - val_loss: 0.7136 - val_accuracy: 0.6000\n",
      "Epoch 35/100\n",
      "4/4 [==============================] - 0s 15ms/step - loss: 0.6222 - accuracy: 0.6833 - val_loss: 0.6680 - val_accuracy: 0.6000\n",
      "Epoch 36/100\n",
      "4/4 [==============================] - 0s 13ms/step - loss: 0.5839 - accuracy: 0.6833 - val_loss: 0.6341 - val_accuracy: 0.6000\n",
      "Epoch 37/100\n",
      "4/4 [==============================] - 0s 13ms/step - loss: 0.5535 - accuracy: 0.6833 - val_loss: 0.6067 - val_accuracy: 0.6000\n",
      "Epoch 38/100\n",
      "4/4 [==============================] - 0s 13ms/step - loss: 0.5273 - accuracy: 0.6833 - val_loss: 0.5836 - val_accuracy: 0.6000\n",
      "Epoch 39/100\n",
      "4/4 [==============================] - 0s 16ms/step - loss: 0.5057 - accuracy: 0.6833 - val_loss: 0.5626 - val_accuracy: 0.6000\n",
      "Epoch 40/100\n",
      "4/4 [==============================] - 0s 17ms/step - loss: 0.4861 - accuracy: 0.6833 - val_loss: 0.5426 - val_accuracy: 0.6000\n",
      "Epoch 41/100\n",
      "4/4 [==============================] - 0s 18ms/step - loss: 0.4721 - accuracy: 0.6917 - val_loss: 0.5227 - val_accuracy: 0.6333\n",
      "Epoch 42/100\n",
      "4/4 [==============================] - 0s 13ms/step - loss: 0.4567 - accuracy: 0.7083 - val_loss: 0.5066 - val_accuracy: 0.6667\n",
      "Epoch 43/100\n",
      "4/4 [==============================] - 0s 13ms/step - loss: 0.4437 - accuracy: 0.7083 - val_loss: 0.4945 - val_accuracy: 0.6667\n",
      "Epoch 44/100\n",
      "4/4 [==============================] - 0s 16ms/step - loss: 0.4330 - accuracy: 0.7250 - val_loss: 0.4822 - val_accuracy: 0.7333\n",
      "Epoch 45/100\n",
      "4/4 [==============================] - 0s 15ms/step - loss: 0.4234 - accuracy: 0.7500 - val_loss: 0.4722 - val_accuracy: 0.7667\n",
      "Epoch 46/100\n",
      "4/4 [==============================] - 0s 12ms/step - loss: 0.4135 - accuracy: 0.8333 - val_loss: 0.4614 - val_accuracy: 0.8333\n",
      "Epoch 47/100\n",
      "4/4 [==============================] - 0s 15ms/step - loss: 0.4055 - accuracy: 0.8667 - val_loss: 0.4511 - val_accuracy: 0.8667\n",
      "Epoch 48/100\n",
      "4/4 [==============================] - 0s 13ms/step - loss: 0.3979 - accuracy: 0.9083 - val_loss: 0.4413 - val_accuracy: 0.9000\n",
      "Epoch 49/100\n",
      "4/4 [==============================] - 0s 18ms/step - loss: 0.3905 - accuracy: 0.8917 - val_loss: 0.4336 - val_accuracy: 0.8667\n",
      "Epoch 50/100\n",
      "4/4 [==============================] - 0s 16ms/step - loss: 0.3828 - accuracy: 0.8750 - val_loss: 0.4240 - val_accuracy: 0.8667\n",
      "Epoch 51/100\n",
      "4/4 [==============================] - 0s 15ms/step - loss: 0.3742 - accuracy: 0.9250 - val_loss: 0.4136 - val_accuracy: 0.9667\n",
      "Epoch 52/100\n",
      "4/4 [==============================] - 0s 15ms/step - loss: 0.3675 - accuracy: 0.9583 - val_loss: 0.4040 - val_accuracy: 0.9667\n",
      "Epoch 53/100\n",
      "4/4 [==============================] - 0s 17ms/step - loss: 0.3598 - accuracy: 0.9417 - val_loss: 0.3956 - val_accuracy: 0.9000\n",
      "Epoch 54/100\n",
      "4/4 [==============================] - 0s 15ms/step - loss: 0.3525 - accuracy: 0.9417 - val_loss: 0.3848 - val_accuracy: 1.0000\n",
      "Epoch 55/100\n",
      "4/4 [==============================] - 0s 16ms/step - loss: 0.3430 - accuracy: 0.9583 - val_loss: 0.3760 - val_accuracy: 0.9667\n",
      "Epoch 56/100\n",
      "4/4 [==============================] - 0s 14ms/step - loss: 0.3359 - accuracy: 0.9583 - val_loss: 0.3662 - val_accuracy: 1.0000\n",
      "Epoch 57/100\n",
      "4/4 [==============================] - 0s 15ms/step - loss: 0.3287 - accuracy: 0.9583 - val_loss: 0.3572 - val_accuracy: 1.0000\n",
      "Epoch 58/100\n",
      "4/4 [==============================] - 0s 16ms/step - loss: 0.3221 - accuracy: 0.9583 - val_loss: 0.3469 - val_accuracy: 1.0000\n",
      "Epoch 59/100\n"
     ]
    },
    {
     "name": "stdout",
     "output_type": "stream",
     "text": [
      "4/4 [==============================] - 0s 18ms/step - loss: 0.3140 - accuracy: 0.9583 - val_loss: 0.3381 - val_accuracy: 1.0000\n",
      "Epoch 60/100\n",
      "4/4 [==============================] - 0s 14ms/step - loss: 0.3080 - accuracy: 0.9583 - val_loss: 0.3300 - val_accuracy: 1.0000\n",
      "Epoch 61/100\n",
      "4/4 [==============================] - 0s 13ms/step - loss: 0.3006 - accuracy: 0.9583 - val_loss: 0.3197 - val_accuracy: 1.0000\n",
      "Epoch 62/100\n",
      "4/4 [==============================] - 0s 13ms/step - loss: 0.2930 - accuracy: 0.9583 - val_loss: 0.3110 - val_accuracy: 1.0000\n",
      "Epoch 63/100\n",
      "4/4 [==============================] - 0s 14ms/step - loss: 0.2873 - accuracy: 0.9667 - val_loss: 0.3015 - val_accuracy: 1.0000\n",
      "Epoch 64/100\n",
      "4/4 [==============================] - 0s 17ms/step - loss: 0.2796 - accuracy: 0.9583 - val_loss: 0.2952 - val_accuracy: 1.0000\n",
      "Epoch 65/100\n",
      "4/4 [==============================] - 0s 14ms/step - loss: 0.2723 - accuracy: 0.9583 - val_loss: 0.2852 - val_accuracy: 1.0000\n",
      "Epoch 66/100\n",
      "4/4 [==============================] - 0s 13ms/step - loss: 0.2636 - accuracy: 0.9667 - val_loss: 0.2743 - val_accuracy: 1.0000\n",
      "Epoch 67/100\n",
      "4/4 [==============================] - 0s 13ms/step - loss: 0.2584 - accuracy: 0.9750 - val_loss: 0.2650 - val_accuracy: 1.0000\n",
      "Epoch 68/100\n",
      "4/4 [==============================] - 0s 18ms/step - loss: 0.2505 - accuracy: 0.9750 - val_loss: 0.2549 - val_accuracy: 1.0000\n",
      "Epoch 69/100\n",
      "4/4 [==============================] - 0s 19ms/step - loss: 0.2427 - accuracy: 0.9667 - val_loss: 0.2461 - val_accuracy: 1.0000\n",
      "Epoch 70/100\n",
      "4/4 [==============================] - 0s 17ms/step - loss: 0.2351 - accuracy: 0.9583 - val_loss: 0.2345 - val_accuracy: 1.0000\n",
      "Epoch 71/100\n",
      "4/4 [==============================] - 0s 17ms/step - loss: 0.2264 - accuracy: 0.9750 - val_loss: 0.2241 - val_accuracy: 1.0000\n",
      "Epoch 72/100\n",
      "4/4 [==============================] - 0s 16ms/step - loss: 0.2188 - accuracy: 0.9750 - val_loss: 0.2142 - val_accuracy: 1.0000\n",
      "Epoch 73/100\n",
      "4/4 [==============================] - 0s 18ms/step - loss: 0.2114 - accuracy: 0.9750 - val_loss: 0.2045 - val_accuracy: 1.0000\n",
      "Epoch 74/100\n",
      "4/4 [==============================] - 0s 16ms/step - loss: 0.2081 - accuracy: 0.9583 - val_loss: 0.1956 - val_accuracy: 1.0000\n",
      "Epoch 75/100\n",
      "4/4 [==============================] - 0s 17ms/step - loss: 0.1965 - accuracy: 0.9750 - val_loss: 0.1899 - val_accuracy: 1.0000\n",
      "Epoch 76/100\n",
      "4/4 [==============================] - 0s 17ms/step - loss: 0.1925 - accuracy: 0.9750 - val_loss: 0.1795 - val_accuracy: 1.0000\n",
      "Epoch 77/100\n",
      "4/4 [==============================] - 0s 17ms/step - loss: 0.1866 - accuracy: 0.9667 - val_loss: 0.1729 - val_accuracy: 1.0000\n",
      "Epoch 78/100\n",
      "4/4 [==============================] - 0s 15ms/step - loss: 0.1806 - accuracy: 0.9667 - val_loss: 0.1659 - val_accuracy: 1.0000\n",
      "Epoch 79/100\n",
      "4/4 [==============================] - 0s 17ms/step - loss: 0.1766 - accuracy: 0.9750 - val_loss: 0.1584 - val_accuracy: 1.0000\n",
      "Epoch 80/100\n",
      "4/4 [==============================] - 0s 22ms/step - loss: 0.1700 - accuracy: 0.9667 - val_loss: 0.1525 - val_accuracy: 1.0000\n",
      "Epoch 81/100\n",
      "4/4 [==============================] - 0s 17ms/step - loss: 0.1642 - accuracy: 0.9750 - val_loss: 0.1469 - val_accuracy: 1.0000\n",
      "Epoch 82/100\n",
      "4/4 [==============================] - 0s 16ms/step - loss: 0.1623 - accuracy: 0.9750 - val_loss: 0.1405 - val_accuracy: 1.0000\n",
      "Epoch 83/100\n",
      "4/4 [==============================] - 0s 17ms/step - loss: 0.1555 - accuracy: 0.9750 - val_loss: 0.1347 - val_accuracy: 1.0000\n",
      "Epoch 84/100\n",
      "4/4 [==============================] - 0s 16ms/step - loss: 0.1555 - accuracy: 0.9667 - val_loss: 0.1296 - val_accuracy: 1.0000\n",
      "Epoch 85/100\n",
      "4/4 [==============================] - 0s 18ms/step - loss: 0.1513 - accuracy: 0.9750 - val_loss: 0.1267 - val_accuracy: 1.0000\n",
      "Epoch 86/100\n",
      "4/4 [==============================] - 0s 18ms/step - loss: 0.1461 - accuracy: 0.9833 - val_loss: 0.1208 - val_accuracy: 1.0000\n",
      "Epoch 87/100\n",
      "4/4 [==============================] - 0s 17ms/step - loss: 0.1422 - accuracy: 0.9667 - val_loss: 0.1168 - val_accuracy: 1.0000\n",
      "Epoch 88/100\n",
      "4/4 [==============================] - 0s 15ms/step - loss: 0.1416 - accuracy: 0.9667 - val_loss: 0.1152 - val_accuracy: 1.0000\n",
      "Epoch 89/100\n",
      "4/4 [==============================] - 0s 15ms/step - loss: 0.1370 - accuracy: 0.9750 - val_loss: 0.1095 - val_accuracy: 1.0000\n",
      "Epoch 90/100\n",
      "4/4 [==============================] - 0s 17ms/step - loss: 0.1358 - accuracy: 0.9750 - val_loss: 0.1057 - val_accuracy: 1.0000\n",
      "Epoch 91/100\n",
      "4/4 [==============================] - 0s 15ms/step - loss: 0.1302 - accuracy: 0.9833 - val_loss: 0.1016 - val_accuracy: 1.0000\n",
      "Epoch 92/100\n",
      "4/4 [==============================] - 0s 15ms/step - loss: 0.1275 - accuracy: 0.9750 - val_loss: 0.0983 - val_accuracy: 1.0000\n",
      "Epoch 93/100\n",
      "4/4 [==============================] - 0s 17ms/step - loss: 0.1264 - accuracy: 0.9833 - val_loss: 0.0967 - val_accuracy: 1.0000\n",
      "Epoch 94/100\n",
      "4/4 [==============================] - 0s 15ms/step - loss: 0.1233 - accuracy: 0.9750 - val_loss: 0.0923 - val_accuracy: 1.0000\n",
      "Epoch 95/100\n",
      "4/4 [==============================] - 0s 19ms/step - loss: 0.1252 - accuracy: 0.9833 - val_loss: 0.0905 - val_accuracy: 1.0000\n",
      "Epoch 96/100\n",
      "4/4 [==============================] - 0s 16ms/step - loss: 0.1175 - accuracy: 0.9833 - val_loss: 0.0869 - val_accuracy: 1.0000\n",
      "Epoch 97/100\n",
      "4/4 [==============================] - 0s 16ms/step - loss: 0.1186 - accuracy: 0.9667 - val_loss: 0.0842 - val_accuracy: 1.0000\n",
      "Epoch 98/100\n",
      "4/4 [==============================] - 0s 14ms/step - loss: 0.1156 - accuracy: 0.9667 - val_loss: 0.0835 - val_accuracy: 1.0000\n",
      "Epoch 99/100\n",
      "4/4 [==============================] - 0s 16ms/step - loss: 0.1150 - accuracy: 0.9750 - val_loss: 0.0819 - val_accuracy: 1.0000\n",
      "Epoch 100/100\n",
      "4/4 [==============================] - 0s 14ms/step - loss: 0.1183 - accuracy: 0.9667 - val_loss: 0.0793 - val_accuracy: 1.0000\n"
     ]
    }
   ],
   "source": [
    "train_history=model.fit(x_train,Y_train,epochs=100,validation_data=(x_test,Y_test))"
   ]
  },
  {
   "cell_type": "code",
   "execution_count": 23,
   "id": "ade200c8",
   "metadata": {
    "scrolled": true
   },
   "outputs": [
    {
     "name": "stdout",
     "output_type": "stream",
     "text": [
      "1/1 [==============================] - 0s 26ms/step - loss: 0.0793 - accuracy: 1.0000\n"
     ]
    }
   ],
   "source": [
    "los,acc=model.evaluate(x_test,Y_test)#0.3,0.07 (0.2642001623592335 0.01)"
   ]
  },
  {
   "cell_type": "code",
   "execution_count": 19,
   "id": "42c5fb3d",
   "metadata": {},
   "outputs": [],
   "source": [
    "y_pred=model.predict(x_test)"
   ]
  },
  {
   "cell_type": "code",
   "execution_count": 20,
   "id": "c85492c7",
   "metadata": {},
   "outputs": [
    {
     "name": "stderr",
     "output_type": "stream",
     "text": [
      "/home/sai/anaconda3/envs/tensorflow/lib/python3.6/site-packages/tensorflow/python/keras/engine/sequential.py:455: UserWarning: `model.predict_classes()` is deprecated and will be removed after 2021-01-01. Please use instead:* `np.argmax(model.predict(x), axis=-1)`,   if your model does multi-class classification   (e.g. if it uses a `softmax` last-layer activation).* `(model.predict(x) > 0.5).astype(\"int32\")`,   if your model does binary classification   (e.g. if it uses a `sigmoid` last-layer activation).\n",
      "  warnings.warn('`model.predict_classes()` is deprecated and '\n"
     ]
    }
   ],
   "source": [
    "y_pred1=model.predict_classes(x_test)"
   ]
  },
  {
   "cell_type": "code",
   "execution_count": 38,
   "id": "c21bf4d3",
   "metadata": {},
   "outputs": [],
   "source": [
    "y_test"
   ]
  },
  {
   "cell_type": "code",
   "execution_count": 21,
   "id": "94eab820",
   "metadata": {
    "scrolled": true
   },
   "outputs": [
    {
     "data": {
      "text/plain": [
       "array([2, 1, 2, 2, 1, 1, 1, 0, 2, 1, 0, 1, 1, 2, 2, 1, 1, 1, 0, 0, 2, 1,\n",
       "       2, 0, 2, 2, 0, 0, 1, 0])"
      ]
     },
     "execution_count": 21,
     "metadata": {},
     "output_type": "execute_result"
    }
   ],
   "source": [
    "y_pred1"
   ]
  },
  {
   "cell_type": "markdown",
   "id": "938b58d2",
   "metadata": {},
   "source": [
    "# Cross Validation Classification Report"
   ]
  },
  {
   "cell_type": "code",
   "execution_count": 49,
   "id": "67582d09",
   "metadata": {},
   "outputs": [
    {
     "name": "stdout",
     "output_type": "stream",
     "text": [
      "              precision    recall  f1-score   support\n",
      "\n",
      "           0       1.00      1.00      1.00         8\n",
      "           1       1.00      1.00      1.00        12\n",
      "           2       1.00      1.00      1.00        10\n",
      "\n",
      "    accuracy                           1.00        30\n",
      "   macro avg       1.00      1.00      1.00        30\n",
      "weighted avg       1.00      1.00      1.00        30\n",
      "\n"
     ]
    }
   ],
   "source": [
    "\n",
    "from sklearn.metrics import classification_report\n",
    "\n",
    "report = classification_report(y_test, y_pred1)\n",
    "print(report)"
   ]
  },
  {
   "cell_type": "markdown",
   "id": "7cb1fa80",
   "metadata": {},
   "source": [
    "# Plot Model Performance"
   ]
  },
  {
   "cell_type": "code",
   "execution_count": null,
   "id": "cb8cc337",
   "metadata": {},
   "outputs": [],
   "source": [
    "#train_history.epoch"
   ]
  },
  {
   "cell_type": "code",
   "execution_count": null,
   "id": "3aafa8e8",
   "metadata": {},
   "outputs": [],
   "source": [
    "#train_history.history"
   ]
  },
  {
   "cell_type": "code",
   "execution_count": null,
   "id": "ef9c3832",
   "metadata": {},
   "outputs": [],
   "source": [
    "#train_history.history"
   ]
  },
  {
   "cell_type": "markdown",
   "id": "1c1ac7af",
   "metadata": {},
   "source": [
    "# loss vs epochs"
   ]
  },
  {
   "cell_type": "code",
   "execution_count": 27,
   "id": "714479a2",
   "metadata": {},
   "outputs": [
    {
     "data": {
      "image/png": "[encoded data removed]",
      "text/plain": [
       "<Figure size 432x288 with 1 Axes>"
      ]
     },
     "metadata": {
      "needs_background": "light"
     },
     "output_type": "display_data"
    }
   ],
   "source": [
    "#Plot Loss\n",
    "import matplotlib.pyplot as plt\n",
    "plt.plot(train_history.epoch,train_history.history[\"loss\"],label=\"Training Error\")\n",
    "plt.plot(train_history.epoch,train_history.history[\"val_loss\"],label=\"Testing Error\")\n",
    "plt.legend()\n",
    "plt.xlabel(\"Epochs\")\n",
    "plt.ylabel(\"Loss\")\n",
    "plt.show()"
   ]
  },
  {
   "cell_type": "markdown",
   "id": "8b1b40ea",
   "metadata": {},
   "source": [
    "# Accuraccy vs epochs"
   ]
  },
  {
   "cell_type": "code",
   "execution_count": 28,
   "id": "d6908581",
   "metadata": {},
   "outputs": [
    {
     "data": {
      "image/png": "[encoded data removed]",
      "text/plain": [
       "<Figure size 432x288 with 1 Axes>"
      ]
     },
     "metadata": {
      "needs_background": "light"
     },
     "output_type": "display_data"
    }
   ],
   "source": [
    "#Accuraccy\n",
    "plt.plot(train_history.epoch,train_history.history[\"accuracy\"],label=\"Training Accuracy\")\n",
    "\n",
    "plt.plot(train_history.epoch,train_history.history[\"val_accuracy\"],label=\"Test Accuracy\")\n",
    "plt.legend()\n",
    "plt.xlabel(\"Epochs\")\n",
    "plt.ylabel(\"Accuracy\")\n",
    "plt.show()"
   ]
  },
  {
   "cell_type": "code",
   "execution_count": null,
   "id": "7478524f",
   "metadata": {},
   "outputs": [],
   "source": []
  },
  {
   "cell_type": "code",
   "execution_count": null,
   "id": "9bc73236",
   "metadata": {},
   "outputs": [],
   "source": []
  },
  {
   "cell_type": "markdown",
   "id": "e2612dcd",
   "metadata": {},
   "source": [
    "# basic activation what i had used"
   ]
  },
  {
   "cell_type": "code",
   "execution_count": 30,
   "id": "eba420ea",
   "metadata": {},
   "outputs": [],
   "source": [
    "def custom_activation(x):\n",
    "    return max(x,k+(k1*x)) "
   ]
  },
  {
   "cell_type": "code",
   "execution_count": 34,
   "id": "90ad2ef1",
   "metadata": {},
   "outputs": [
    {
     "data": {
      "text/plain": [
       "-37.71000000000001"
      ]
     },
     "execution_count": 34,
     "metadata": {},
     "output_type": "execute_result"
    }
   ],
   "source": [
    "custom_activation(-543)"
   ]
  },
  {
   "cell_type": "code",
   "execution_count": null,
   "id": "07e0856f",
   "metadata": {},
   "outputs": [],
   "source": []
  }
 ],
 "metadata": {
  "kernelspec": {
   "display_name": "Python 3",
   "language": "python",
   "name": "python3"
  },
  "language_info": {
   "codemirror_mode": {
    "name": "ipython",
    "version": 3
   },
   "file_extension": ".py",
   "mimetype": "text/x-python",
   "name": "python",
   "nbconvert_exporter": "python",
   "pygments_lexer": "ipython3",
   "version": "3.6.13"
  }
 },
 "nbformat": 4,
 "nbformat_minor": 5
}
